{
 "cells": [
  {
   "cell_type": "code",
   "execution_count": 141,
   "id": "c5036c45",
   "metadata": {},
   "outputs": [],
   "source": [
    "#!pip install python-dotenv\n",
    "#!pip install psycopg2"
   ]
  },
  {
   "cell_type": "code",
   "execution_count": 142,
   "id": "85b2743a",
   "metadata": {},
   "outputs": [
    {
     "name": "stdout",
     "output_type": "stream",
     "text": [
      "Successfully imported necessary modules\n"
     ]
    }
   ],
   "source": [
    "import os\n",
    "import requests\n",
    "from datetime import datetime\n",
    "import pandas as pd\n",
    "import pandas_profiling\n",
    "import csv\n",
    "from bs4 import BeautifulSoup as soup\n",
    "import psycopg2\n",
    "from dotenv import load_dotenv\n",
    "\n",
    "print(\"Successfully imported necessary modules\")"
   ]
  },
  {
   "cell_type": "code",
   "execution_count": 143,
   "id": "9acef5b1",
   "metadata": {},
   "outputs": [
    {
     "data": {
      "text/plain": [
       "200"
      ]
     },
     "execution_count": 143,
     "metadata": {},
     "output_type": "execute_result"
    }
   ],
   "source": [
    "url = \"https://www.worldometers.info/coronavirus/\"\n",
    "response = requests.get(url, allow_redirects = True)\n",
    "response.status_code"
   ]
  },
  {
   "cell_type": "code",
   "execution_count": 144,
   "id": "8886103e",
   "metadata": {},
   "outputs": [
    {
     "name": "stdout",
     "output_type": "stream",
     "text": [
      "----------------\n",
      "----------------\n",
      "----------------\n",
      "Total (cases)= 669176898 Total (deaths)= 6716761 and Total (recoveries)= 640449919\n"
     ]
    }
   ],
   "source": [
    "soup_response = soup(response.text, \"html.parser\")\n",
    "#soup_response\n",
    "sections = soup_response.find_all(\"div\", id= \"maincounter-wrap\")\n",
    "for section in sections:\n",
    "    #print(section)\n",
    "    print(\"----------------\")\n",
    "    \n",
    "cases = int(sections[0].find(\"span\").text.strip().replace(\",\", \"\"))\n",
    "deaths = int(sections[1].find(\"span\").text.strip().replace(\",\", \"\"))\n",
    "recoveries = int(sections[2].find(\"span\").text.strip().replace(\",\", \"\"))\n",
    "\n",
    "print(f\"Total {(cases)= } Total {(deaths)= } and Total {(recoveries)= }\")"
   ]
  },
  {
   "cell_type": "code",
   "execution_count": 145,
   "id": "88024854",
   "metadata": {},
   "outputs": [],
   "source": [
    "matched_tags = soup_response.find_all(lambda tag: len(tag.find_all()) == 0 and \"Last updated\" in tag.text)\n",
    "LastUpdated = matched_tags[0].text.strip(\"Last updated: \")"
   ]
  },
  {
   "cell_type": "code",
   "execution_count": 146,
   "id": "0ea6ecfd",
   "metadata": {},
   "outputs": [
    {
     "name": "stdout",
     "output_type": "stream",
     "text": [
      "2023-01-10\n"
     ]
    }
   ],
   "source": [
    "date = datetime.utcnow().strftime(\"%Y-%m-%d\")\n",
    "print(date)\n",
    "write_columns = False\n",
    "columns = [\"Total_Cases\", \"Total_Deaths\", \"Total_Recoveries\", \"Last_Updated\"]\n",
    "values_obs = cases, deaths, recoveries, LastUpdated\n",
    "outfile = r\"./data/covid19_worldmeters_summary_stats-\"+date+\".csv\"\n",
    "if not os.path.exists(outfile):\n",
    "    write_columns = True\n",
    "with open(outfile, \"a\",newline = \"\") as f:\n",
    "    writer = csv.writer(f)\n",
    "    if write_columns:\n",
    "        writer.writerow(columns)\n",
    "    writer.writerow(values_obs)"
   ]
  },
  {
   "cell_type": "code",
   "execution_count": 147,
   "id": "2e9d4b5a",
   "metadata": {},
   "outputs": [
    {
     "data": {
      "text/plain": [
       "'January 10, 2023, 17:44 GMT'"
      ]
     },
     "execution_count": 147,
     "metadata": {},
     "output_type": "execute_result"
    }
   ],
   "source": [
    "LastUpdated"
   ]
  },
  {
   "cell_type": "code",
   "execution_count": 148,
   "id": "a33bd246",
   "metadata": {},
   "outputs": [
    {
     "name": "stdout",
     "output_type": "stream",
     "text": [
      "2023-01-10 17:44:00\n"
     ]
    },
    {
     "data": {
      "text/plain": [
       "datetime.datetime"
      ]
     },
     "execution_count": 148,
     "metadata": {},
     "output_type": "execute_result"
    }
   ],
   "source": [
    "import pytz\n",
    "\n",
    "unware_time = datetime.strptime(LastUpdated, \"%B %d, %Y, %H:%M %Z\")#\"%Y-%m-%d %H:%M:%S\")\n",
    "print(unware_time)\n",
    "max_timestamp= int(unware_time.strftime(\"%Y%m%d%H%M%S\"))\n",
    "aware_time = unware_time.replace(tzinfo=pytz.UTC)\n",
    "type(aware_time)"
   ]
  },
  {
   "cell_type": "code",
   "execution_count": 149,
   "id": "742cb50f",
   "metadata": {},
   "outputs": [],
   "source": [
    "if (os.environ.get(\"DB_TYPE\") == None):\n",
    " \n",
    " from config.definitions import ROOT_DIR\n",
    " load_dotenv(os.path.join(ROOT_DIR, 'config', '.env'))"
   ]
  },
  {
   "cell_type": "code",
   "execution_count": 150,
   "id": "3a5af7a6",
   "metadata": {},
   "outputs": [],
   "source": [
    "conn = psycopg2.connect(\n",
    "    dbname=os.environ.get(\"POSTGRES_DB\"),\n",
    "    user=os.environ.get(\"POSTGRES_USER\"),\n",
    "    password=os.environ.get(\"POSTGRES_PASS\"),\n",
    "    host=os.environ.get(\"POSTGRES_HOST\"),\n",
    "    port=os.environ.get(\"POSTGRES_PORT\")\n",
    ")"
   ]
  },
  {
   "cell_type": "code",
   "execution_count": 151,
   "id": "9a201734",
   "metadata": {},
   "outputs": [],
   "source": [
    "sql_insert = \"\"\"INSERT INTO covid_worldmeter_summary_stats(total_cases, total_deaths, total_recoveries, lastupdated, int_timestamp)\n",
    "             VALUES(%s, %s, %s, %s, %s) ;\"\"\"\n",
    "sql_select = \"\"\"select count(1) from covid_worldmeter_summary_stats where int_timestamp >= %s\"\"\""
   ]
  },
  {
   "cell_type": "code",
   "execution_count": 152,
   "id": "d45e4ce7",
   "metadata": {},
   "outputs": [],
   "source": [
    "with conn.cursor() as cursor:\n",
    "    cursor.execute(sql_select, (max_timestamp,))\n",
    "    v_count = cursor.fetchone()\n",
    "    if v_count[0] == 0:\n",
    "        cursor.execute(sql_insert,(cases, deaths, recoveries, aware_time,max_timestamp,))\n",
    "    conn.commit()"
   ]
  },
  {
   "cell_type": "code",
   "execution_count": null,
   "id": "9aa36859",
   "metadata": {},
   "outputs": [],
   "source": []
  }
 ],
 "metadata": {
  "kernelspec": {
   "display_name": "dashboard",
   "language": "python",
   "name": "python3"
  },
  "language_info": {
   "codemirror_mode": {
    "name": "ipython",
    "version": 3
   },
   "file_extension": ".py",
   "mimetype": "text/x-python",
   "name": "python",
   "nbconvert_exporter": "python",
   "pygments_lexer": "ipython3",
   "version": "3.10.6 | packaged by conda-forge | (main, Oct 24 2022, 16:02:16) [MSC v.1916 64 bit (AMD64)]"
  },
  "vscode": {
   "interpreter": {
    "hash": "3cee5e6af52b614a2e05ee197feec5e074306649e114bab392c7e028463de2a0"
   }
  }
 },
 "nbformat": 4,
 "nbformat_minor": 5
}
