{
 "cells": [
  {
   "cell_type": "code",
   "execution_count": 2,
   "id": "66330b68",
   "metadata": {},
   "outputs": [
    {
     "data": {
      "text/plain": [
       "22003"
      ]
     },
     "execution_count": 2,
     "metadata": {},
     "output_type": "execute_result"
    }
   ],
   "source": [
    "# 1. Import the requests library\n",
    "import requests\n",
    "import os\n",
    "import psycopg2\n",
    "from dotenv import load_dotenv\n",
    "URL = \"https://www.cybertec-postgresql.com/secret/oil_ext.txt\"\n",
    "# 2. download the data behind the URL\n",
    "response = requests.get(URL)\n",
    "open(r\"data/oil.txt\", \"wb\").write(response.content)"
   ]
  },
  {
   "cell_type": "code",
   "execution_count": 3,
   "id": "46531dd0",
   "metadata": {},
   "outputs": [],
   "source": [
    "if (os.environ.get(\"DB_TYPE\") == None):\n",
    " \n",
    " from config.definitions import ROOT_DIR\n",
    " load_dotenv(os.path.join(ROOT_DIR, 'config', '.env'))"
   ]
  },
  {
   "cell_type": "code",
   "execution_count": 4,
   "id": "d99851c7",
   "metadata": {},
   "outputs": [],
   "source": [
    "conn = psycopg2.connect(\n",
    "    dbname=os.environ.get(\"POSTGRES_DB\"),\n",
    "    user=os.environ.get(\"POSTGRES_USER\"),\n",
    "    password=os.environ.get(\"POSTGRES_PASS\"),\n",
    "    host=os.environ.get(\"POSTGRES_HOST\"),\n",
    "    port=os.environ.get(\"POSTGRES_PORT\")\n",
    ")"
   ]
  },
  {
   "cell_type": "code",
   "execution_count": 5,
   "id": "d2cb1e05",
   "metadata": {},
   "outputs": [
    {
     "name": "stdout",
     "output_type": "stream",
     "text": [
      "('PostgreSQL 14.5 (Ubuntu 14.5-0ubuntu0.22.04.1) on x86_64-pc-linux-gnu, compiled by gcc (Ubuntu 11.2.0-19ubuntu1) 11.2.0, 64-bit',)\n",
      "Data upload completed successfully\n"
     ]
    }
   ],
   "source": [
    "with conn.cursor() as cursor:\n",
    "    with open(r'data/oil.txt') as f:\n",
    "        cursor.execute('SELECT VERSION()')\n",
    "        print(cursor.fetchone())\n",
    "        \n",
    "        cursor.copy_from(f, 't_oil')\n",
    "        conn.commit()\n",
    "        print(\"Data upload completed successfully\")"
   ]
  }
 ],
 "metadata": {
  "kernelspec": {
   "display_name": "Python 3 (ipykernel)",
   "language": "python",
   "name": "python3"
  },
  "language_info": {
   "codemirror_mode": {
    "name": "ipython",
    "version": 3
   },
   "file_extension": ".py",
   "mimetype": "text/x-python",
   "name": "python",
   "nbconvert_exporter": "python",
   "pygments_lexer": "ipython3",
   "version": "3.10.6"
  }
 },
 "nbformat": 4,
 "nbformat_minor": 5
}
